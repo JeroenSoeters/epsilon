{
 "cells": [
  {
   "cell_type": "code",
   "execution_count": 1,
   "metadata": {
    "collapsed": false
   },
   "outputs": [],
   "source": [
    "import numpy as np\n",
    "import snapvx as sx\n",
    "import epopt as ep"
   ]
  },
  {
   "cell_type": "code",
   "execution_count": 2,
   "metadata": {
    "collapsed": true
   },
   "outputs": [],
   "source": [
    "# Helper function to define edge objectives\n",
    "# Takes in two nodes, returns a problem defined with the variables from those nodes\n",
    "def laplace_reg(src, dst, data):\n",
    "  return (sx.sum_squares(src['x'] - dst['x']), [])\n",
    "\n",
    "# Generate random graph, using SNAP syntax\n",
    "np.random.seed(1)\n",
    "num_nodes = 10\n",
    "num_edges = 30\n",
    "n = 10\n",
    "graph = sx.GenRndGnm(sx.PUNGraph, num_nodes, num_edges)\n",
    "gvx = sx.TGraphVX(graph)\n",
    "\n",
    "# For each node, add an objective (using random data)\n",
    "for i in range(num_nodes):\n",
    "  x = sx.Variable(n, name='x') # Each node has its own variable named 'x'\n",
    "  a = np.random.randn(n)\n",
    "  gvx.SetNodeObjective(i, sx.square(sx.norm(x-a)))\n",
    "\n",
    "# Set all edge objectives at once (Laplacian Regularization)\n",
    "gvx.AddEdgeObjectives(laplace_reg)"
   ]
  },
  {
   "cell_type": "code",
   "execution_count": 3,
   "metadata": {
    "collapsed": false
   },
   "outputs": [
    {
     "name": "stdout",
     "output_type": "stream",
     "text": [
      "\n",
      "ECOS 2.0.4 - (C) embotech GmbH, Zurich Switzerland, 2012-15. Web: www.embotech.com/ECOS\n",
      "\n",
      "It     pcost       dcost      gap   pres   dres    k/t    mu     step   sigma     IR    |   BT\n",
      " 0  -4.309e-22  -4.767e+00  +4e+02  7e-01  3e-02  1e+00  8e+00    ---    ---    1  1  - |  -  - \n",
      " 1  -1.237e+00  -2.434e+00  +1e+02  4e-01  7e-03  4e-01  2e+00  0.7237  2e-02   1  1  1 |  0  0\n",
      " 2  +8.432e+00  +7.660e+00  +1e+02  3e-01  9e-03  1e+00  2e+00  0.3155  7e-01   2  2  2 |  0  0\n",
      " 3  +2.172e+01  +2.209e+01  +4e+01  2e-01  3e-03  1e+00  7e-01  0.8649  2e-01   2  2  2 |  0  0\n",
      " 4  +2.314e+01  +2.375e+01  +2e+01  1e-01  3e-03  1e+00  5e-01  0.7424  6e-01   2  2  2 |  0  0\n",
      " 5  +4.515e+01  +4.555e+01  +6e+00  4e-02  8e-04  6e-01  1e-01  0.9289  2e-01   2  2  2 |  0  0\n",
      " 6  +5.474e+01  +5.481e+01  +9e-01  6e-03  1e-04  1e-01  2e-02  0.9367  9e-02   2  2  2 |  0  0\n",
      " 7  +5.701e+01  +5.701e+01  +4e-02  3e-04  6e-06  6e-03  9e-04  0.9633  1e-02   2  2  2 |  0  0\n",
      " 8  +5.713e+01  +5.713e+01  +2e-03  1e-05  2e-07  2e-04  3e-05  0.9612  8e-04   2  2  2 |  0  0\n",
      " 9  +5.713e+01  +5.713e+01  +8e-05  5e-07  1e-08  1e-05  2e-06  0.9531  2e-03   2  2  2 |  0  0\n",
      "10  +5.713e+01  +5.714e+01  +4e-06  3e-08  6e-10  5e-07  8e-08  0.9566  8e-03   3  1  2 |  0  0\n",
      "11  +5.714e+01  +5.714e+01  +4e-07  3e-09  6e-11  5e-08  9e-09  0.9008  1e-03   2  1  1 |  0  0\n",
      "\n",
      "OPTIMAL (within feastol=2.7e-09, reltol=7.5e-09, abstol=4.3e-07).\n",
      "Runtime: 0.007950 seconds.\n",
      "\n"
     ]
    },
    {
     "data": {
      "text/plain": [
       "57.13501243426587"
      ]
     },
     "execution_count": 3,
     "metadata": {},
     "output_type": "execute_result"
    }
   ],
   "source": [
    "prob = gvx.GetProblem()\n",
    "prob.solve(verbose=True)"
   ]
  },
  {
   "cell_type": "code",
   "execution_count": 4,
   "metadata": {
    "collapsed": false
   },
   "outputs": [
    {
     "name": "stdout",
     "output_type": "stream",
     "text": [
      "Epsilon 0.2.3, prox-affine form\n",
      "objective:\n",
      "  add(\n",
      "    sum_square(add(var(x), scalar(-1.00)*const(a))),\n",
      "    sum_square(add(var(y), scalar(-1.00)*const(b))),\n",
      "    sum_square(add(var(z), scalar(-1.00)*const(c))),\n",
      "    sum_square(add(var(w), scalar(-1.00)*const(d))),\n",
      "    sum_square(add(var(v), scalar(-1.00)*const(k))),\n",
      "    sum_square(add(var(u), scalar(-1.00)*const(e))),\n",
      "    sum_square(add(var(t), scalar(-1.00)*const(f))),\n",
      "    sum_square(add(var(s), scalar(-1.00)*const(l))),\n",
      "    sum_square(add(var(r), scalar(-1.00)*const(m))),\n",
      "    sum_square(add(var(q), scalar(-1.00)*const(n))),\n",
      "    sum_square(add(var(x), scalar(-1.00)*var(y))),\n",
      "    sum_square(add(var(z), scalar(-1.00)*var(w))),\n",
      "    sum_square(add(var(v), scalar(-1.00)*var(u))),\n",
      "    sum_square(add(var(t), scalar(-1.00)*var(s))),\n",
      "    sum_square(add(var(r), scalar(-1.00)*var(q))),\n",
      "    sum_square(add(var(x), scalar(-1.00)*var(y))),\n",
      "    sum_square(add(var(z), scalar(-1.00)*var(w))),\n",
      "    sum_square(add(var(v), scalar(-1.00)*var(u))),\n",
      "    sum_square(add(var(t), scalar(-1.00)*var(s))),\n",
      "    sum_square(add(var(r), scalar(-1.00)*var(q))),\n",
      "    sum_square(add(var(x), scalar(-1.00)*var(y))),\n",
      "    sum_square(add(var(z), scalar(-1.00)*var(w))),\n",
      "    sum_square(add(var(v), scalar(-1.00)*var(u))),\n",
      "    sum_square(add(var(t), scalar(-1.00)*var(s))),\n",
      "    sum_square(add(var(r), scalar(-1.00)*var(q))),\n",
      "    sum_square(add(var(x), scalar(-1.00)*var(y))),\n",
      "    sum_square(add(var(z), scalar(-1.00)*var(w))),\n",
      "    sum_square(add(var(v), scalar(-1.00)*var(u))),\n",
      "    sum_square(add(var(t), scalar(-1.00)*var(s))),\n",
      "    sum_square(add(var(r), scalar(-1.00)*var(q))),\n",
      "    sum_square(add(var(x), scalar(-1.00)*var(y))),\n",
      "    sum_square(add(var(z), scalar(-1.00)*var(w))),\n",
      "    sum_square(add(var(v), scalar(-1.00)*var(u))),\n",
      "    sum_square(add(var(t), scalar(-1.00)*var(s))),\n",
      "    sum_square(add(var(r), scalar(-1.00)*var(q))),\n",
      "    sum_square(add(var(x), scalar(-1.00)*var(y))),\n",
      "    sum_square(add(var(z), scalar(-1.00)*var(w))),\n",
      "    sum_square(add(var(v), scalar(-1.00)*var(u))),\n",
      "    sum_square(add(var(t), scalar(-1.00)*var(s))),\n",
      "    sum_square(add(var(r), scalar(-1.00)*var(q))))\n",
      "\n",
      "constraints:\n",
      "  zero(add(var(x), scalar(-1.00)*var(t)))\n",
      "  zero(add(var(y), scalar(-1.00)*var(v)))\n",
      "  zero(add(var(z), scalar(-1.00)*var(z)))\n",
      "  zero(add(var(w), scalar(-1.00)*var(z)))\n",
      "  zero(add(var(v), scalar(-1.00)*var(z)))\n",
      "  zero(add(var(u), scalar(-1.00)*var(x)))\n",
      "  zero(add(var(t), scalar(-1.00)*var(z)))\n",
      "  zero(add(var(s), scalar(-1.00)*var(t)))\n",
      "  zero(add(var(r), scalar(-1.00)*var(r)))\n",
      "  zero(add(var(q), scalar(-1.00)*var(q)))\n",
      "  zero(add(var(x), scalar(-1.00)*var(t)))\n",
      "  zero(add(var(y), scalar(-1.00)*var(z)))\n",
      "  zero(add(var(z), scalar(-1.00)*var(t)))\n",
      "  zero(add(var(w), scalar(-1.00)*var(z)))\n",
      "  zero(add(var(v), scalar(-1.00)*var(t)))\n",
      "  zero(add(var(u), scalar(-1.00)*var(x)))\n",
      "  zero(add(var(s), scalar(-1.00)*var(r)))\n",
      "  zero(add(var(r), scalar(-1.00)*var(v)))\n",
      "  zero(add(var(q), scalar(-1.00)*var(z)))\n",
      "  zero(add(var(x), scalar(-1.00)*var(v)))\n",
      "  zero(add(var(y), scalar(-1.00)*var(t)))\n",
      "  zero(add(var(z), scalar(-1.00)*var(v)))\n",
      "  zero(add(var(w), scalar(-1.00)*var(r)))\n",
      "  zero(add(var(u), scalar(-1.00)*var(q)))\n",
      "  zero(add(var(t), scalar(-1.00)*var(z)))\n",
      "  zero(add(var(s), scalar(-1.00)*var(x)))\n",
      "  zero(add(var(r), scalar(-1.00)*var(z)))\n",
      "  zero(add(var(q), scalar(-1.00)*var(z)))\n",
      "  zero(add(var(x), scalar(-1.00)*var(z)))\n",
      "  zero(add(var(y), scalar(-1.00)*var(t)))\n",
      "  zero(add(var(w), scalar(-1.00)*var(q)))\n",
      "  zero(add(var(v), scalar(-1.00)*var(z)))\n",
      "  zero(add(var(u), scalar(-1.00)*var(x)))\n",
      "  zero(add(var(t), scalar(-1.00)*var(z)))\n",
      "  zero(add(var(s), scalar(-1.00)*var(z)))\n",
      "  zero(add(var(r), scalar(-1.00)*var(z)))\n",
      "  zero(add(var(q), scalar(-1.00)*var(t)))\n",
      "  zero(add(var(x), scalar(-1.00)*var(z)))\n",
      "  zero(add(var(y), scalar(-1.00)*var(r)))\n",
      "  zero(add(var(w), scalar(-1.00)*var(q)))\n",
      "  zero(add(var(v), scalar(-1.00)*var(z)))\n",
      "  zero(add(var(u), scalar(-1.00)*var(x)))\n",
      "  zero(add(var(t), scalar(-1.00)*var(z)))\n",
      "  zero(add(var(s), scalar(-1.00)*var(z)))\n",
      "  zero(add(var(r), scalar(-1.00)*var(z)))\n",
      "  zero(add(var(q), scalar(-1.00)*var(t)))\n",
      "  zero(add(var(x), scalar(-1.00)*var(z)))\n",
      "  zero(add(var(y), scalar(-1.00)*var(r)))\n",
      "  zero(add(var(w), scalar(-1.00)*var(q)))\n",
      "  zero(add(var(v), scalar(-1.00)*var(x)))\n",
      "  zero(add(var(u), scalar(-1.00)*var(z)))\n",
      "  zero(add(var(t), scalar(-1.00)*var(x)))\n",
      "  zero(add(var(s), scalar(-1.00)*var(t)))\n",
      "  zero(add(var(r), scalar(-1.00)*var(x)))\n",
      "  zero(add(var(q), scalar(-1.00)*var(r)))\n",
      "  zero(add(var(y), scalar(-1.00)*var(q)))\n",
      "  zero(add(var(w), scalar(-1.00)*var(t)))\n",
      "  zero(add(var(v), scalar(-1.00)*var(t)))\n",
      "  zero(add(var(u), scalar(-1.00)*var(r)))\n",
      "  zero(add(var(s), scalar(-1.00)*var(q)))\n",
      "\n",
      "Epsilon compile time: 0.1598 seconds\n",
      "iter=0 residuals primal=5.36e+00 [2.76e-02] dual=2.30e+00 [5.67e-02]\n",
      "iter=20 residuals primal=1.10e-02 [3.97e-02] dual=9.14e-03 [1.65e-01]\n",
      "Epsilon solve time: 0.2149 seconds\n"
     ]
    },
    {
     "data": {
      "text/plain": [
       "('optimal', 57.135027482117366)"
      ]
     },
     "execution_count": 4,
     "metadata": {},
     "output_type": "execute_result"
    }
   ],
   "source": [
    "ep.solve(prob, verbose=True)"
   ]
  }
 ],
 "metadata": {
  "kernelspec": {
   "display_name": "Python 2",
   "language": "python",
   "name": "python2"
  },
  "language_info": {
   "codemirror_mode": {
    "name": "ipython",
    "version": 2
   },
   "file_extension": ".py",
   "mimetype": "text/x-python",
   "name": "python",
   "nbconvert_exporter": "python",
   "pygments_lexer": "ipython2",
   "version": "2.7.11"
  }
 },
 "nbformat": 4,
 "nbformat_minor": 0
}
