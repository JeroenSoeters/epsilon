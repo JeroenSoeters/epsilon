{
 "cells": [
  {
   "cell_type": "markdown",
   "metadata": {},
   "source": [
    "# 20 newsgroups text classification"
   ]
  },
  {
   "cell_type": "code",
   "execution_count": 22,
   "metadata": {
    "collapsed": false
   },
   "outputs": [
    {
     "name": "stdout",
     "output_type": "stream",
     "text": [
      "\n"
     ]
    }
   ],
   "source": [
    "import numpy as np\n",
    "import cvxpy as cp\n",
    "import epopt as ep"
   ]
  },
  {
   "cell_type": "code",
   "execution_count": 27,
   "metadata": {
    "collapsed": false
   },
   "outputs": [],
   "source": [
    "from sklearn.datasets import fetch_20newsgroups\n",
    "\n",
    "newsgroups_train = fetch_20newsgroups(subset=\"train\")\n",
    "newsgroups_test = fetch_20newsgroups(subset=\"test\")"
   ]
  },
  {
   "cell_type": "markdown",
   "metadata": {},
   "source": [
    "## Features"
   ]
  },
  {
   "cell_type": "code",
   "execution_count": 35,
   "metadata": {
    "collapsed": false
   },
   "outputs": [],
   "source": [
    "from sklearn.feature_extraction import text\n",
    "\n",
    "vectorizer = text.TfidfVectorizer(max_features=5000)\n",
    "X = vectorizer.fit_transform(newsgroups_train.data)\n",
    "y = newsgroups_train.target\n",
    "Xtest = vectorizer.transform(newsgroups_test.data)\n",
    "ytest = newsgroups_test.target"
   ]
  },
  {
   "cell_type": "markdown",
   "metadata": {},
   "source": [
    "## Naive Bayes classifier"
   ]
  },
  {
   "cell_type": "code",
   "execution_count": 36,
   "metadata": {
    "collapsed": false
   },
   "outputs": [
    {
     "name": "stdout",
     "output_type": "stream",
     "text": [
      "Train accuracy: 0.900300512639\n",
      "Test accuracy: 0.775889537971\n"
     ]
    }
   ],
   "source": [
    "from sklearn import naive_bayes\n",
    "\n",
    "def accuracy(x, y):\n",
    "    return np.sum(x == y) / float(len(x))\n",
    "\n",
    "nb = naive_bayes.MultinomialNB()\n",
    "nb.fit(X, y)\n",
    "print \"Train accuracy:\", accuracy(nb.predict(X), y)\n",
    "print \"Test accuracy:\", accuracy(nb.predict(Xtest), ytest)"
   ]
  },
  {
   "cell_type": "markdown",
   "metadata": {},
   "source": [
    "## Discriminative classifier with elastic net regularization"
   ]
  },
  {
   "cell_type": "code",
   "execution_count": 38,
   "metadata": {
    "collapsed": false
   },
   "outputs": [
    {
     "name": "stdout",
     "output_type": "stream",
     "text": [
      "Epsilon 0.2.4\n",
      "Compiled prox-affine form:\n",
      "objective:\n",
      "  add(\n",
      "    affine(dense(A)*var(x)),\n",
      "    non_negative(var(y)),\n",
      "    affine(kron(dense(B), dense(C))*diag(D)*var(Z)),\n",
      "    norm_1(var(W)),\n",
      "    sum_square(var(V)))\n",
      "\n",
      "constraints:\n",
      "  zero(add(add(kron(transpose(dense(B)), scalar(1.00))*var(x), scalar(-1.00)*add(kron(scalar(1.00), sparse(K))*var(V), dense(e)*1.00, scalar(-1.00)*const(F))), scalar(-1.00)*var(y)))\n",
      "  zero(add(var(Z), scalar(-1.00)*var(V)))\n",
      "  zero(add(var(W), scalar(-1.00)*var(V)))\n",
      "Epsilon compile time: 0.0648 seconds\n",
      "\n",
      "iter=0 residuals primal=8.61e+02 [8.71e+00] dual=8.46e+01 [8.76e+00]\n",
      "iter=40 residuals primal=1.18e+00 [4.95e+00] dual=6.83e+00 [8.88e+00]\n",
      "Epsilon solve time: 62.8336 seconds\n",
      "Train accuracy: 0.970567438572\n",
      "Test accuracy: 0.796601168348\n"
     ]
    }
   ],
   "source": [
    "# Parameters\n",
    "m, n = X.shape\n",
    "k = 20\n",
    "Theta = cp.Variable(n, k)\n",
    "lam1 = 0.1\n",
    "lam2 = 1\n",
    "\n",
    "f = ep.multiclass_hinge_loss(Theta, X, y) + lam1*cp.norm1(Theta) + lam2*cp.sum_squares(Theta)\n",
    "prob = cp.Problem(cp.Minimize(f)) \n",
    "ep.solve(prob, verbose=True)\n",
    "\n",
    "Theta0 = np.array(Theta.value)\n",
    "print \"Train accuracy:\", accuracy(np.argmax(X.dot(Theta0), axis=1), y)\n",
    "print \"Test accuracy:\", accuracy(np.argmax(Xtest.dot(Theta0), axis=1), ytest)"
   ]
  }
 ],
 "metadata": {
  "kernelspec": {
   "display_name": "Python 2",
   "language": "python",
   "name": "python2"
  },
  "language_info": {
   "codemirror_mode": {
    "name": "ipython",
    "version": 2
   },
   "file_extension": ".py",
   "mimetype": "text/x-python",
   "name": "python",
   "nbconvert_exporter": "python",
   "pygments_lexer": "ipython2",
   "version": "2.7.11"
  }
 },
 "nbformat": 4,
 "nbformat_minor": 0
}
