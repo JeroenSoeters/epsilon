{
 "cells": [
  {
   "cell_type": "markdown",
   "metadata": {},
   "source": [
    "# 20 newsgroups text classification"
   ]
  },
  {
   "cell_type": "markdown",
   "metadata": {},
   "source": [
    "In this example we consider a multiclass text classification problem based on the [20 newsgroups dataset](http://qwone.com/~jason/20Newsgroups/) which contains the text of nearly 20,000 newsgroup posts partitioned across 20 different newsgroups. We fit our classifier by minimizing [multiclass hinge loss](http://jmlr.csail.mit.edu/papers/volume2/crammer01a/crammer01a.pdf) combined with [elastic net][1] regularization which combines the $\\ell_1$- and $\\ell_2$-penalty.\n",
    "\n",
    "[1]: https://web.stanford.edu/~hastie/Papers/B67.2%20(2005)%20301-320%20Zou%20&%20Hastie.pdf"
   ]
  },
  {
   "cell_type": "code",
   "execution_count": 39,
   "metadata": {
    "collapsed": false
   },
   "outputs": [],
   "source": [
    "import numpy as np\n",
    "import cvxpy as cp\n",
    "import epopt as ep"
   ]
  },
  {
   "cell_type": "markdown",
   "metadata": {},
   "source": [
    "This dataset is readily available from `sklearn` Python package, we load the training and test data using the 60/40% \"by date\" split which makes our results comparable to existing published work."
   ]
  },
  {
   "cell_type": "code",
   "execution_count": 27,
   "metadata": {
    "collapsed": false
   },
   "outputs": [],
   "source": [
    "from sklearn.datasets import fetch_20newsgroups\n",
    "\n",
    "newsgroups_train = fetch_20newsgroups(subset=\"train\")\n",
    "newsgroups_test = fetch_20newsgroups(subset=\"test\")"
   ]
  },
  {
   "cell_type": "markdown",
   "metadata": {},
   "source": [
    "## Features"
   ]
  },
  {
   "cell_type": "markdown",
   "metadata": {},
   "source": [
    "The newsgroups data is simply the raw text:"
   ]
  },
  {
   "cell_type": "code",
   "execution_count": 43,
   "metadata": {
    "collapsed": false
   },
   "outputs": [
    {
     "name": "stdout",
     "output_type": "stream",
     "text": [
      "From: lerxst@wam.umd.edu (where's my thing)\n",
      "Subject: WHAT car is this!?\n",
      "Nntp-Posting-Host: rac3.wam.umd.edu\n",
      "Organization: University of Maryland, College Park\n",
      "Lines: 15\n",
      "\n",
      " I was wondering if anyone out there could enlighten me on this car I saw\n",
      "the other day. It was a 2-door sports car, looked to be from the late 60s/\n",
      "early 70s. It was called a Bricklin. The doors were really small. In addition,\n",
      "the front bumper was separate from the rest of the body. This is \n",
      "all I know. If anyone can tellme a model name, engine specs, years\n",
      "of production, where this car is made, history, or whatever info you\n",
      "have on this funky looking car, please e-mail.\n",
      "\n",
      "Thanks,\n",
      "- IL\n",
      "   ---- brought to you by your neighborhood Lerxst ----\n",
      "\n",
      "\n",
      "\n",
      "\n",
      "\n"
     ]
    }
   ],
   "source": [
    "print newsgroups_train.data[0]"
   ]
  },
  {
   "cell_type": "markdown",
   "metadata": {},
   "source": [
    "Thus, the first step is to convert this to a set of numerical features $x_1,\\ldots,x_m \\in \\mathbb{R}^n$ that we can use for classification. We simply employ the standard tf-idf weighting scheme which weights terms by their term frequency times their inverse document frequency."
   ]
  },
  {
   "cell_type": "code",
   "execution_count": 35,
   "metadata": {
    "collapsed": false
   },
   "outputs": [],
   "source": [
    "from sklearn.feature_extraction import text\n",
    "\n",
    "vectorizer = text.TfidfVectorizer(max_features=5000)\n",
    "X = vectorizer.fit_transform(newsgroups_train.data)\n",
    "y = newsgroups_train.target\n",
    "Xtest = vectorizer.transform(newsgroups_test.data)\n",
    "ytest = newsgroups_test.target"
   ]
  },
  {
   "cell_type": "markdown",
   "metadata": {},
   "source": [
    "For the purposes of this example, we restrict ourselves to the top 5000 terms which gives a training set of size $X \\in \\mathbb{R}^{11314 \\times 5000}$:"
   ]
  },
  {
   "cell_type": "code",
   "execution_count": 46,
   "metadata": {
    "collapsed": false
   },
   "outputs": [
    {
     "name": "stdout",
     "output_type": "stream",
     "text": [
      "(11314, 5000)\n"
     ]
    }
   ],
   "source": [
    "print X.shape"
   ]
  },
  {
   "cell_type": "markdown",
   "metadata": {},
   "source": [
    "## Multiclass hinge loss with elastic net regularization"
   ]
  },
  {
   "cell_type": "markdown",
   "metadata": {},
   "source": [
    "Now, we fit the classifier by minimizing multiclass hinge loss combined with elastic net regularization. Let $\\theta_j$ for $j = 1,\\ldots,20$ denote the weights for class $j$, we fit the model by solving the optimization problem\n",
    "$$\n",
    "\\DeclareMathOperator{\\minimize}{minimize} \\minimize \\;\\; \\sum_{i=1}^m \\left( \\max_j \\; \\{\\theta_j^Tx_i + 1 - \\delta_{j,y_i} \\} - \\theta_{y_i}^Tx_i \\right) + \\sum_{j=1}^k \\lambda_1 \\|\\theta_j\\|_1 +  \\sum_{j=1}^k \\lambda_2 \\|\\theta_j\\|_2^2\n",
    "$$\n",
    "where $\\lambda_1 \\ge 0$ and $\\lambda_2 \\ge 0$ are regularization parameters. The $\\ell_1$ and $\\ell_2$ penalty are straightforward to expression in CVXPY, and for multiclass hinge loss it is most efficient if we write the expression in matrix form"
   ]
  },
  {
   "cell_type": "code",
   "execution_count": 48,
   "metadata": {
    "collapsed": true
   },
   "outputs": [],
   "source": [
    "def multiclass_hinge_loss(Theta, X, y):\n",
    "    k = Theta.size[1]\n",
    "    Y = one_hot(y, k)\n",
    "    return (cp.sum_entries(cp.max_entries(X*Theta + 1 - Y, axis=1)) -\n",
    "            cp.sum_entries(cp.mul_elemwise(X.T.dot(Y), Theta)))"
   ]
  },
  {
   "cell_type": "markdown",
   "metadata": {},
   "source": [
    "For convenience, this definition is provided as part of epsilon, see [`functions.py`](github.com) for details. "
   ]
  },
  {
   "cell_type": "code",
   "execution_count": 38,
   "metadata": {
    "collapsed": false
   },
   "outputs": [
    {
     "name": "stdout",
     "output_type": "stream",
     "text": [
      "Epsilon 0.2.4\n",
      "Compiled prox-affine form:\n",
      "objective:\n",
      "  add(\n",
      "    affine(dense(A)*var(x)),\n",
      "    non_negative(var(y)),\n",
      "    affine(kron(dense(B), dense(C))*diag(D)*var(Z)),\n",
      "    norm_1(var(W)),\n",
      "    sum_square(var(V)))\n",
      "\n",
      "constraints:\n",
      "  zero(add(add(kron(transpose(dense(B)), scalar(1.00))*var(x), scalar(-1.00)*add(kron(scalar(1.00), sparse(K))*var(V), dense(e)*1.00, scalar(-1.00)*const(F))), scalar(-1.00)*var(y)))\n",
      "  zero(add(var(Z), scalar(-1.00)*var(V)))\n",
      "  zero(add(var(W), scalar(-1.00)*var(V)))\n",
      "Epsilon compile time: 0.0648 seconds\n",
      "\n",
      "iter=0 residuals primal=8.61e+02 [8.71e+00] dual=8.46e+01 [8.76e+00]\n",
      "iter=40 residuals primal=1.18e+00 [4.95e+00] dual=6.83e+00 [8.88e+00]\n",
      "Epsilon solve time: 62.8336 seconds\n",
      "Train accuracy: 0.970567438572\n",
      "Test accuracy: 0.796601168348\n"
     ]
    }
   ],
   "source": [
    "# Parameters\n",
    "m, n = X.shape\n",
    "k = 20\n",
    "Theta = cp.Variable(n, k)\n",
    "lam1 = 0.1\n",
    "lam2 = 1\n",
    "\n",
    "f = ep.multiclass_hinge_loss(Theta, X, y) + lam1*cp.norm1(Theta) + lam2*cp.sum_squares(Theta)\n",
    "prob = cp.Problem(cp.Minimize(f)) \n",
    "ep.solve(prob, verbose=True)\n",
    "\n",
    "Theta0 = np.array(Theta.value)\n",
    "print \"Train accuracy:\", accuracy(np.argmax(X.dot(Theta0), axis=1), y)\n",
    "print \"Test accuracy:\", accuracy(np.argmax(Xtest.dot(Theta0), axis=1), ytest)"
   ]
  },
  {
   "cell_type": "markdown",
   "metadata": {},
   "source": [
    "Thus, with this straightforward approach feature generation, and simple bag-of-words model we achieve ~80% accuracy. Note that its well-known that for this dataset the by date split tends to result in poorer than expected generalization error (presumably, due to the fact that the content of a particular newsgroup drifts over time). \n",
    "\n",
    "Nonetheless, we could no doubt improve upon this result by (for example) including [higher order n-grams](http://papers.nips.cc/paper/4932-compressive-feature-learning.pdf), considering [more sophisticated NLP features](http://nlp.stanford.edu/wiki/Software/Classifier/20_Newsgroups) and various other approaches to feature engineering..."
   ]
  }
 ],
 "metadata": {
  "kernelspec": {
   "display_name": "Python 2",
   "language": "python",
   "name": "python2"
  },
  "language_info": {
   "codemirror_mode": {
    "name": "ipython",
    "version": 2
   },
   "file_extension": ".py",
   "mimetype": "text/x-python",
   "name": "python",
   "nbconvert_exporter": "python",
   "pygments_lexer": "ipython2",
   "version": "2.7.11"
  }
 },
 "nbformat": 4,
 "nbformat_minor": 0
}
