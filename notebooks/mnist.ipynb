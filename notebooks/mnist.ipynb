{
 "cells": [
  {
   "cell_type": "markdown",
   "metadata": {},
   "source": [
    "# MNIST image classification\n",
    "\n",
    "In this example, we consider the classic machine learning dataset MNIST and the task of classifying handwritten digits. By modern computer vision standards this dataset is considered small, yet it is sufficiently large that many standard classifiers (e.g. those in the Python package `sklearn`) require significant time to train a model. Nonetheless, [Epsilon](http://epopt.io/) is able to fit a model that achieves near state-of-the-art accuracy in a few minutes. \n",
    "\n",
    "<img src=\"mnist.png\" />\n",
    "\n",
    "The standard task is to train a multiclass classifier that can correctly identify digits from their pixel intensity values. We will build a classifier to perform this task using [mutlticlass hinge loss](http://jmlr.csail.mit.edu/papers/volume2/crammer01a/crammer01a.pdf) which is straightforward to express in CVXPY form."
   ]
  },
  {
   "cell_type": "code",
   "execution_count": 1,
   "metadata": {
    "collapsed": false
   },
   "outputs": [],
   "source": [
    "%matplotlib inline\n",
    "import io\n",
    "import urllib\n",
    "import cvxpy as cp\n",
    "import matplotlib.pyplot as plt\n",
    "import numpy as np\n",
    "import numpy.linalg as LA\n",
    "import epopt as ep\n",
    "\n",
    "mnist = np.load(io.BytesIO(urllib.urlopen(\"http://epopt.s3.amazonaws.com/mnist.npz\").read()))"
   ]
  },
  {
   "cell_type": "markdown",
   "metadata": {},
   "source": [
    "## Hinge loss, multiclass classification and support vector machines"
   ]
  },
  {
   "cell_type": "markdown",
   "metadata": {},
   "source": [
    "Mathematically we will set up our problem with a set of training examples $(X, y)$ where $y \\in \\{-1,1\\}^m$ is the set of binary labels and $X$ is a matrix containing $m$ training examples with $n$ input features (the features for each, $x_i \\in \\mathbb{R}^n$, are arranged as the rows of matrix $X \\in \\mathbb{R}^{m \\times n}$). Given this training set, we will fit the parameters of our model by minimizing a loss function over the training data\n",
    "$$\n",
    "\\DeclareMathOperator{\\minimize}{minimize} \\minimize \\;\\; \\ell(\\theta; X, y), \n",
    "$$\n",
    "where $\\theta \\in \\mathbb{R}^n$ denotes model parameters. A natural loss for classification is the 0-1 loss: we incur a penalty of 1 for each incorrect classification and 0 otherwise. This loss function is nonconvex and so instead we minimize a convex surrogate, the *hinge loss*\n",
    "$$\n",
    "\\ell(\\theta; X, y) = \\sum_{i=1}^m \\max \\{0, 1 - y_i(\\theta^Tx_i) \\}.\n",
    "$$\n",
    "The hinge loss is in fact the tightest possible convex surrogate for the 0-1 loss as can be seen from the following picture:\n"
   ]
  },
  {
   "cell_type": "code",
   "execution_count": 3,
   "metadata": {
    "collapsed": false
   },
   "outputs": [
    {
     "data": {
      "image/png": "[encoded data removed]",
      "text/plain": [
       "<matplotlib.figure.Figure at 0x108e1b910>"
      ]
     },
     "metadata": {},
     "output_type": "display_data"
    }
   ],
   "source": [
    "# z = y*p is the product of the label and the prediction, i.e. z>0 is a correct prediction\n",
    "z = np.linspace(-3, 3, 1000)\n",
    "plt.plot(z, z < 0, linewidth=2)\n",
    "plt.plot(z, np.maximum(0, 1 - z), linewidth=2)\n",
    "_ = plt.legend((\"0-1 loss\", \"hinge loss\"))"
   ]
  },
  {
   "cell_type": "markdown",
   "metadata": {},
   "source": [
    "The multiclass generalization of hinge loss extends this idea to predicting $k$ classess..."
   ]
  },
  {
   "cell_type": "markdown",
   "metadata": {},
   "source": [
    "In order to minimize this function using CVXPY and Epsilon, we must write down its definition which is a single line of Python. For convenience, Epsilon provides the `multiclass_hinge_loss()` function as well as several others, see [`functions.py`](https://github.com/mwytock/epsilon/blob/master/python/epopt/functions.py) for more details."
   ]
  },
  {
   "cell_type": "code",
   "execution_count": 5,
   "metadata": {
    "collapsed": false
   },
   "outputs": [
    {
     "name": "stdout",
     "output_type": "stream",
     "text": [
      "\n"
     ]
    }
   ],
   "source": [
    "def multiclass_hinge_loss(Theta, X, y):\n",
    "    k = Theta.size[1]\n",
    "    Y = one_hot(y, k)\n",
    "    return (cp.sum_entries(cp.max_entries(X*Theta + 1 - Y, axis=1)) -\n",
    "            cp.sum_entries(cp.mul_elemwise(X.T.dot(Y), Theta)))\n",
    "\n",
    "def error(x, y):\n",
    "    return 1 - np.sum(x == y) / float(len(x))"
   ]
  },
  {
   "cell_type": "markdown",
   "metadata": {},
   "source": [
    "We will also add a bit of $\\ell_2$-regularization on the parameter vector $\\theta$, the final optimization problem is\n",
    "$$\n",
    "\\minimize \\;\\; \\ell(\\theta; X, y) + \\lambda \\|\\theta\\|_2^2\n",
    "$$\n",
    "where the parameter $\\lambda > 0$ controls the amount of regularization (and therefore, the bias-variance tradeoff between over/underfitting the data). Formulating this problem in CVXPY and solving it with Epsilon is done as follows: "
   ]
  },
  {
   "cell_type": "code",
   "execution_count": 7,
   "metadata": {
    "collapsed": false
   },
   "outputs": [
    {
     "name": "stdout",
     "output_type": "stream",
     "text": [
      "Epsilon 0.2.4\n",
      "Compiled prox-affine form:\n",
      "objective:\n",
      "  add(\n",
      "    affine(dense(A)*var(x)),\n",
      "    non_negative(var(y)),\n",
      "    affine(kron(dense(B), dense(C))*diag(D)*var(Z)),\n",
      "    sum_square(var(W)))\n",
      "\n",
      "constraints:\n",
      "  zero(add(add(kron(transpose(dense(B)), scalar(1.00))*var(x), scalar(-1.00)*add(kron(scalar(1.00), dense(K))*var(W), dense(e)*1.00, scalar(-1.00)*const(F))), scalar(-1.00)*var(y)))\n",
      "  zero(add(var(Z), scalar(-1.00)*var(W)))\n",
      "Epsilon compile time: 1.4502 seconds\n",
      "\n",
      "iter=0 residuals primal=1.29e+05 [1.29e+03] dual=2.24e+02 [1.29e+03]\n",
      "iter=40 residuals primal=9.62e+00 [1.02e+01] dual=2.54e+01 [1.29e+03]\n",
      "Epsilon solve time: 38.7465 seconds\n",
      "Train error: 0.0853166666667\n",
      "Test error: 0.0891\n"
     ]
    }
   ],
   "source": [
    "# Problem data\n",
    "X = mnist[\"X\"] / 255.   # raw pixel data scaled to [0, 1]\n",
    "y = mnist[\"Y\"].ravel()  # labels {0, ..., 9}\n",
    "Xtest = mnist[\"Xtest\"] / 255.\n",
    "ytest = mnist[\"Ytest\"].ravel()\n",
    "\n",
    "# Parameters\n",
    "m, n = X.shape\n",
    "k = 10\n",
    "Theta = cp.Variable(n, k)\n",
    "lam = 1\n",
    "\n",
    "# Form problem with CVXPY and solve with Epsilon\n",
    "f = ep.multiclass_hinge_loss(Theta, X, y) + lam*cp.sum_squares(Theta)\n",
    "prob = cp.Problem(cp.Minimize(f))\n",
    "ep.solve(prob, verbose=True)\n",
    "\n",
    "# Get solution and compute train/test error\n",
    "Theta0 = np.array(Theta.value)\n",
    "print \"Train error:\", error(np.argmax(X.dot(Theta0), axis=1), y)\n",
    "print \"Test error:\", error(np.argmax(Xtest.dot(Theta0), axis=1), ytest)"
   ]
  },
  {
   "cell_type": "markdown",
   "metadata": {},
   "source": [
    "Thus, a simple linear classifier on pixel intensities achieves a 8.9% error rate on this task. This forms a reasonable baseline, but raw pixel values are in fact poor predictors and we can do much better by considering a nonlinear decision functions which we explore next. \n",
    "\n",
    "First, its worth noting that the hinge loss also naturally arises in the derivation of  [support vector machines](https://en.wikipedia.org/wiki/Support_vector_machine). In addition, SVMs allow efficient learning of non-linear classification boundaries via their dual formulation and the \"kernel trick\". In fact, SVMs with Gaussian kernel  \n",
    "$$ k(x, x') = \\exp\\left( \\frac{-\\|x - x'\\|^2}{2\\sigma^2}  \\right) $$\n",
    "are known to perform very well on MNIST.\n",
    "\n",
    "Unfortunately as the size of the training set is 60K, explicitly instantiating the kernel matrix (60K x 60K) is prohibitively expensive for this problem. Instead, we will use a recent method based on random Fourier features which approximates the kernel distance function."
   ]
  },
  {
   "cell_type": "markdown",
   "metadata": {},
   "source": [
    "## Non-linear classifier using random Fourier features"
   ]
  },
  {
   "cell_type": "markdown",
   "metadata": {},
   "source": [
    "Rather remarkably, it turns out that transforming the input data with random features\n",
    "$$\n",
    "z(x) = \\cos(Wx + b)\n",
    "$$\n",
    "with $W \\in \\mathbb{R}^{d \\times n}$ and $b \\in \\mathbb{R}^d$; The elements of $W$ are sampled from a zero-mean Normal distribution $\\mathcal{N}(0, \\sigma^2)$ and the elements of $b$ are chosen uniformly at random from $[0, 2\\pi]$. When the input features are transformed in this fashion, their inner product approximates the Gaussian kernel\n",
    "$$\n",
    "z(x)^Tz(x') \\approx k(x, x'),\n",
    "$$\n",
    "for the complete mathematical details see [Rahimi and Recht (2007)](http://www.eecs.berkeley.edu/~brecht/papers/07.rah.rec.nips.pdf).\n",
    "\n",
    "Our implementation of this idea (e.g. the use of PCA, median trick) is inspired by a [recent paper](http://arxiv.org/abs/1310.1949) ([code](https://github.com/fest/secondorderdemos)) which reports near state-of-the-art performance on the MNIST digit classification class. \n",
    "\n",
    "These transformations are straightforward to implement in a few lines of Python:"
   ]
  },
  {
   "cell_type": "code",
   "execution_count": 10,
   "metadata": {
    "collapsed": false
   },
   "outputs": [],
   "source": [
    "def median_dist(X):\n",
    "    \"\"\"Compute the approximate median distance by sampling pairs.\"\"\"\n",
    "    k = 1<<20  # 1M random points\n",
    "    i = np.random.randint(0, X.shape[0], k)\n",
    "    j = np.random.randint(0, X.shape[0], k)\n",
    "    return np.sqrt(np.median(np.sum((X[i,:] - X[j,:])**2, axis=1)))\n",
    "    \n",
    "def pca(X, dim):\n",
    "    \"\"\"Perform centered PCA.\"\"\"\n",
    "    X = X - X.mean(axis=0)\n",
    "    return LA.eigh(X.T.dot(X))[1][:,-dim:]\n",
    "\n",
    "# PCA and median trick\n",
    "np.random.seed(0)\n",
    "V = pca(mnist[\"X\"], 50)\n",
    "X = mnist[\"X\"].dot(V)\n",
    "sigma = median_dist(X)\n",
    "\n",
    "# Random features\n",
    "n = 4000\n",
    "W = np.random.randn(X.shape[1], n) / sigma\n",
    "b = np.random.uniform(0, 2*np.pi, n)\n",
    "X = np.cos(X.dot(W) + b)\n",
    "Xtest = np.cos(mnist[\"Xtest\"].dot(V).dot(W) + b)"
   ]
  },
  {
   "cell_type": "markdown",
   "metadata": {},
   "source": [
    "Given our transformed dataset we now have a larger feature matrix ($X \\in \\mathbb{R}^{60000 \\times 4000}$) but we fit the model using the same method consisting of hinge loss and $\\ell_2$-regularization. "
   ]
  },
  {
   "cell_type": "code",
   "execution_count": 14,
   "metadata": {
    "collapsed": false
   },
   "outputs": [
    {
     "name": "stdout",
     "output_type": "stream",
     "text": [
      "Epsilon 0.2.4\n",
      "Compiled prox-affine form:\n",
      "objective:\n",
      "  add(\n",
      "    affine(dense(A)*var(x)),\n",
      "    non_negative(var(y)),\n",
      "    affine(kron(dense(B), dense(C))*diag(D)*var(Z)),\n",
      "    sum_square(var(W)))\n",
      "\n",
      "constraints:\n",
      "  zero(add(add(kron(transpose(dense(B)), scalar(1.00))*var(x), scalar(-1.00)*add(kron(scalar(1.00), dense(K))*var(W), dense(e)*1.00, scalar(-1.00)*const(F))), scalar(-1.00)*var(y)))\n",
      "  zero(add(var(Z), scalar(-1.00)*var(W)))\n",
      "Epsilon compile time: 9.8725 seconds\n",
      "\n",
      "iter=0 residuals primal=7.12e+05 [7.12e+03] dual=2.71e+02 [7.12e+03]\n",
      "iter=30 residuals primal=6.94e+00 [7.43e+00] dual=1.70e+01 [7.12e+03]\n",
      "Epsilon solve time: 196.5668 seconds\n",
      "Train error: 0.00501666666667\n",
      "Test error: 0.0157\n"
     ]
    }
   ],
   "source": [
    "# Parameters\n",
    "m, n = X.shape\n",
    "k = 10\n",
    "Theta = cp.Variable(n, k)\n",
    "lam = 10\n",
    "\n",
    "# Form problem with CVXPY and solve with Epsilon\n",
    "f = ep.multiclass_hinge_loss(Theta, X, y) + lam*cp.sum_squares(Theta)\n",
    "prob = cp.Problem(cp.Minimize(f))\n",
    "ep.solve(prob, verbose=True)\n",
    "\n",
    "# Get solution and compute train/test error\n",
    "Theta0 = np.array(Theta.value)\n",
    "print \"Train error:\", error(np.argmax(X.dot(Theta0), axis=1), y)\n",
    "print \"Test error:\", error(np.argmax(Xtest.dot(Theta0), axis=1), ytest)"
   ]
  },
  {
   "cell_type": "markdown",
   "metadata": {},
   "source": [
    "Our classifier now achieves an error rate of 1.57% improving significantly over the baseline. Critically, it only 3.5 minutes to train this classifier which is significantly faster than many of the dedicated Python machine learning packages (e.g. those provided by `sklearn`)."
   ]
  },
  {
   "cell_type": "markdown",
   "metadata": {
    "collapsed": true
   },
   "source": [
    "## Conclusions"
   ]
  },
  {
   "cell_type": "markdown",
   "metadata": {},
   "source": [
    "This example provides a quick introduction to achieving very good results on the classical machine learning task MNIST using [Epsilon](http://epopt.io/). Its important to note that this environment provided by [CVXPY](http://cvxpy.org) and [NumPy](http://numpy.org) other numerical Python packages makes it very fast to iterate on this classifier, e.g. we could expeirment with different random features, add $\\ell_1$-regularization instead of or in addition to the $\\ell_2$-regularization, perform more careful cross-validation, etc...\n",
    "\n",
    "In addition, there are several items on the Epsilon roadmap which are relevant:\n",
    "- multicore support - splitting the data matrix by row would likely improve convergence speed significantly\n",
    "- GPU support - in this problem the main bottleneck is dense linear algebra---this could be much faster with a GPU implementation\n",
    "- warm start - would allow for more efficient cross-validation by caching work across nearly identical problem instances "
   ]
  }
 ],
 "metadata": {
  "kernelspec": {
   "display_name": "Python 2",
   "language": "python",
   "name": "python2"
  },
  "language_info": {
   "codemirror_mode": {
    "name": "ipython",
    "version": 2
   },
   "file_extension": ".py",
   "mimetype": "text/x-python",
   "name": "python",
   "nbconvert_exporter": "python",
   "pygments_lexer": "ipython2",
   "version": "2.7.9"
  }
 },
 "nbformat": 4,
 "nbformat_minor": 0
}
