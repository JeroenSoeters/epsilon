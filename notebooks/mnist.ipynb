{
 "cells": [
  {
   "cell_type": "markdown",
   "metadata": {},
   "source": [
    "# MNIST\n",
    "\n",
    "Goal: train classifier with 4% error in <1 minute on a laptop"
   ]
  },
  {
   "cell_type": "markdown",
   "metadata": {},
   "source": [
    "## Dataset"
   ]
  },
  {
   "cell_type": "code",
   "execution_count": 7,
   "metadata": {
    "collapsed": false
   },
   "outputs": [],
   "source": [
    "from sklearn import datasets\n",
    "from sklearn import cross_validation\n",
    "import numpy as np"
   ]
  },
  {
   "cell_type": "markdown",
   "metadata": {},
   "source": [
    "## Loss functions"
   ]
  },
  {
   "cell_type": "code",
   "execution_count": null,
   "metadata": {
    "collapsed": true
   },
   "outputs": [],
   "source": [
    "# Multiclass classification\n",
    "def one_hot(y, k):\n",
    "    m = len(y)\n",
    "    return sp.coo_matrix((np.ones(m), (np.arange(m), y)), shape=(m, k)).todense()\n",
    "\n",
    "def softmax_loss(Theta, X, y):\n",
    "    k = Theta.size[1]\n",
    "    return (cp.sum_entries(cp.log_sum_exp(X*Theta, axis=1)) -\n",
    "            cp.sum_entries(cp.mul_elemwise(one_hot(y, k), X*Theta)))\n",
    "\n",
    "def multiclass_hinge_loss(Theta, X, y):\n",
    "    n, k = Theta.size\n",
    "    ones = np.ones((k,k))\n",
    "    Y = one_hot(y, k)\n",
    "    Z = X*Theta\n",
    "    ZY = cp.mul_elemwise(Y, Z)*ones\n",
    "    return cp.sum_entries(cp.max_entries(Z - ZY + (1-Y), axis=1))"
   ]
  },
  {
   "cell_type": "markdown",
   "metadata": {},
   "source": [
    "## Random features"
   ]
  },
  {
   "cell_type": "code",
   "execution_count": 10,
   "metadata": {
    "collapsed": false
   },
   "outputs": [],
   "source": [
    "mnist = datasets.fetch_mldata(\"MNIST original\")\n",
    "Xt, Xs, yt, ys = cross_validation.train_test_split(\n",
    "    mnist[\"data\"], mnist[\"target\"], train_size=60000, random_state=0)"
   ]
  },
  {
   "cell_type": "code",
   "execution_count": 18,
   "metadata": {
    "collapsed": false
   },
   "outputs": [
    {
     "data": {
      "text/plain": [
       "array([ 2.,  8.,  2., ...,  5.,  3.,  7.])"
      ]
     },
     "execution_count": 18,
     "metadata": {},
     "output_type": "execute_result"
    }
   ],
   "source": [
    "np.round(lr.predict(Xs))"
   ]
  },
  {
   "cell_type": "code",
   "execution_count": null,
   "metadata": {
    "collapsed": true
   },
   "outputs": [],
   "source": []
  },
  {
   "cell_type": "code",
   "execution_count": 22,
   "metadata": {
    "collapsed": false
   },
   "outputs": [
    {
     "name": "stdout",
     "output_type": "stream",
     "text": [
      "Error: 0.7724\n"
     ]
    }
   ],
   "source": [
    "from sklearn import linear_model\n",
    "\n",
    "def err(x, y):\n",
    "    return 1 - np.sum(x == y) / float(len(x))\n",
    "\n",
    "lr = linear_model.RidgeCV()\n",
    "lr.fit(Xt,yt)\n",
    "print \"Error:\", err(ys, np.round(lr.predict(Xs)))"
   ]
  },
  {
   "cell_type": "code",
   "execution_count": null,
   "metadata": {
    "collapsed": true
   },
   "outputs": [],
   "source": []
  }
 ],
 "metadata": {
  "kernelspec": {
   "display_name": "Python 2",
   "language": "python",
   "name": "python2"
  },
  "language_info": {
   "codemirror_mode": {
    "name": "ipython",
    "version": 2
   },
   "file_extension": ".py",
   "mimetype": "text/x-python",
   "name": "python",
   "nbconvert_exporter": "python",
   "pygments_lexer": "ipython2",
   "version": "2.7.11"
  }
 },
 "nbformat": 4,
 "nbformat_minor": 0
}
