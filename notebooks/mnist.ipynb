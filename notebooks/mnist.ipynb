{
 "cells": [
  {
   "cell_type": "markdown",
   "metadata": {},
   "source": [
    "# MNIST\n",
    "\n",
    "Goal: train classifier with 4% error in <1 minute on a laptop"
   ]
  },
  {
   "cell_type": "code",
   "execution_count": 1,
   "metadata": {
    "collapsed": true
   },
   "outputs": [],
   "source": [
    "import io\n",
    "import urllib\n",
    "import cvxpy as cp\n",
    "import numpy as np\n",
    "import numpy.linalg as LA"
   ]
  },
  {
   "cell_type": "markdown",
   "metadata": {},
   "source": [
    "## Dataset"
   ]
  },
  {
   "cell_type": "code",
   "execution_count": null,
   "metadata": {
    "collapsed": false
   },
   "outputs": [],
   "source": [
    "mnist = np.load(io.BytesIO(urllib.urlopen(\"http://epopt.s3.amazonaws.com/mnist.npz\").read()))"
   ]
  },
  {
   "cell_type": "markdown",
   "metadata": {},
   "source": [
    "## Random Fourier features"
   ]
  },
  {
   "cell_type": "code",
   "execution_count": null,
   "metadata": {
    "collapsed": false
   },
   "outputs": [],
   "source": [
    "def error(x, y):\n",
    "    return 1 - np.sum(x == y) / float(len(x))\n",
    "\n",
    "def predict(X, theta):\n",
    "    return np.array((X.dot(theta) > 0)*2 - 1).ravel()"
   ]
  },
  {
   "cell_type": "code",
   "execution_count": null,
   "metadata": {
    "collapsed": true
   },
   "outputs": [],
   "source": [
    "def pca(X):\n",
    "    dim = 50\n",
    "    X -= X.mean(X, axis=0)\n",
    "    _, D = LA.eigh(X.T.dot(X))\n",
    "    return X.dot(D[:, :dim])\n",
    "\n",
    "def median_dist(X):\n",
    "    m = X.shape[0]\n",
    "    k = int(m**1.5)\n",
    "    I = np.random.randint(0, m, k)\n",
    "    J = np.random.randint(0, m, k)\n",
    "    dists = sorted(map(lambda i : LA.norm(X[I[i],:] - X[J[i],:]), xrange(k)))\n",
    "    return dists[k / 2]\n",
    "\n",
    "def random_features(X, n):\n",
    "    X = pca(X)\n",
    "    sigma = median_dist(X)\n",
    "    W = np.random.randn(X.shape[1], n) / sigma / np.sqrt(2)\n",
    "    b = np.random.uniform(0, 2*np.pi, n)\n",
    "    return np.cos(X.dot(W) + b)\n",
    "\n",
    "X = mnist[\"X\"] / 255.\n",
    "y = (mnist[\"Y\"].ravel() % 2 == 1)*2-1\n",
    "theta = LA.solve((X.T.dot(X)), X.T.dot(y))\n",
    "print \"Error:\", error(predict(X, theta), y)"
   ]
  },
  {
   "cell_type": "markdown",
   "metadata": {},
   "source": [
    "## Loss functions"
   ]
  },
  {
   "cell_type": "code",
   "execution_count": null,
   "metadata": {
    "collapsed": true
   },
   "outputs": [],
   "source": [
    "# Multiclass classification\n",
    "def one_hot(y, k):\n",
    "    m = len(y)\n",
    "    return sp.coo_matrix((np.ones(m), (np.arange(m), y)), shape=(m, k)).todense()\n",
    "\n",
    "def softmax_loss(Theta, X, y):\n",
    "    k = Theta.size[1]\n",
    "    return (cp.sum_entries(cp.log_sum_exp(X*Theta, axis=1)) -\n",
    "            cp.sum_entries(cp.mul_elemwise(one_hot(y, k), X*Theta)))\n",
    "\n",
    "def multiclass_hinge_loss(Theta, X, y):\n",
    "    n, k = Theta.size\n",
    "    ones = np.ones((k,k))\n",
    "    Y = one_hot(y, k)\n",
    "    Z = X*Theta\n",
    "    ZY = cp.mul_elemwise(Y, Z)*ones\n",
    "    return cp.sum_entries(cp.max_entries(Z - ZY + (1-Y), axis=1))"
   ]
  },
  {
   "cell_type": "markdown",
   "metadata": {},
   "source": [
    "## Random features"
   ]
  },
  {
   "cell_type": "code",
   "execution_count": null,
   "metadata": {
    "collapsed": false
   },
   "outputs": [],
   "source": [
    "mnist = datasets.fetch_mldata(\"MNIST original\")\n",
    "Xt, Xs, yt, ys = cross_validation.train_test_split(\n",
    "    mnist[\"data\"], mnist[\"target\"], train_size=60000, random_state=0)"
   ]
  },
  {
   "cell_type": "code",
   "execution_count": null,
   "metadata": {
    "collapsed": false
   },
   "outputs": [],
   "source": [
    "np.round(lr.predict(Xs))"
   ]
  },
  {
   "cell_type": "code",
   "execution_count": null,
   "metadata": {
    "collapsed": true
   },
   "outputs": [],
   "source": []
  },
  {
   "cell_type": "code",
   "execution_count": null,
   "metadata": {
    "collapsed": false
   },
   "outputs": [],
   "source": [
    "from sklearn import linear_model\n",
    "\n",
    "def err(x, y):\n",
    "    return 1 - np.sum(x == y) / float(len(x))\n",
    "\n",
    "lr = linear_model.RidgeCV()\n",
    "lr.fit(Xt,yt)\n",
    "print \"Error:\", err(ys, np.round(lr.predict(Xs)))"
   ]
  },
  {
   "cell_type": "code",
   "execution_count": null,
   "metadata": {
    "collapsed": true
   },
   "outputs": [],
   "source": []
  }
 ],
 "metadata": {
  "kernelspec": {
   "display_name": "Python 2",
   "language": "python",
   "name": "python2"
  },
  "language_info": {
   "codemirror_mode": {
    "name": "ipython",
    "version": 2
   },
   "file_extension": ".py",
   "mimetype": "text/x-python",
   "name": "python",
   "nbconvert_exporter": "python",
   "pygments_lexer": "ipython2",
   "version": "2.7.11"
  }
 },
 "nbformat": 4,
 "nbformat_minor": 0
}
