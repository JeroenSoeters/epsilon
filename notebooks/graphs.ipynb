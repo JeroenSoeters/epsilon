{
 "cells": [
  {
   "cell_type": "markdown",
   "metadata": {},
   "source": [
    "# Optimization over graphs"
   ]
  },
  {
   "cell_type": "markdown",
   "metadata": {},
   "source": [
    "This example is based on [Hallac et al., \"Network Lasso: Clustering and Optimization in Large Graphs\" (2015)](http://web.stanford.edu/~hallac/Network_Lasso.pdf). In particular, we consider the general framework \n",
    "\n",
    "\n"
   ]
  },
  {
   "cell_type": "code",
   "execution_count": 2,
   "metadata": {
    "collapsed": false
   },
   "outputs": [],
   "source": [
    "import cvxpy as cp\n",
    "import epopt as ep\n",
    "import numpy as np\n",
    "import scipy.sparse as sp\n",
    "import snap"
   ]
  },
  {
   "cell_type": "code",
   "execution_count": 4,
   "metadata": {
    "collapsed": false
   },
   "outputs": [],
   "source": [
    "# Generate a random graph\n",
    "N = 2000\n",
    "K = 3\n",
    "graph = snap.GenRndDegK(N, K)"
   ]
  },
  {
   "cell_type": "code",
   "execution_count": 5,
   "metadata": {
    "collapsed": true
   },
   "outputs": [],
   "source": [
    "# Parameters\n",
    "N = 2000\n",
    "K = 3\n",
    "p = 500\n",
    "lam = 1\n",
    "\n",
    "# Generate random graph\n",
    "E = graph.GetEdges()\n",
    "\n",
    "# Construct differencing operator\n",
    "data = np.hstack((np.ones(E), -np.ones(E)))\n",
    "i = np.hstack((np.arange(E), np.arange(E)))\n",
    "j = ([e.GetSrcNId() for e in graph.Edges()] +\n",
    "     [e.GetDstNId() for e in graph.Edges()])\n",
    "D = sp.coo_matrix((data, (i, j)))\n",
    "\n",
    "# Formulate problem\n",
    "X = cp.Variable(N, p)\n",
    "A = np.random.randn(N, p)\n",
    "f = cp.sum_squares(X-A) + lam*cp.sum_squares(D*X)\n",
    "prob = cp.Problem(cp.Minimize(f))\n",
    "\n",
    "# Solve with Epsilon\n",
    "ep.solve(prob)"
   ]
  },
  {
   "cell_type": "code",
   "execution_count": null,
   "metadata": {
    "collapsed": false
   },
   "outputs": [],
   "source": [
    "prob = gvx.GetProblem()\n",
    "prob.solve(verbose=True)"
   ]
  },
  {
   "cell_type": "code",
   "execution_count": 4,
   "metadata": {
    "collapsed": false
   },
   "outputs": [
    {
     "name": "stdout",
     "output_type": "stream",
     "text": [
      "Epsilon 0.2.4\n",
      "Compiled prox-affine form:\n",
      "objective:\n",
      "  add(\n",
      "    sum_square(add(var(x), scalar(-1.00)*const(a))),\n",
      "    sum_square(add(var(y), scalar(-1.00)*const(b))),\n",
      "    sum_square(add(var(z), scalar(-1.00)*const(c))),\n",
      "    sum_square(add(var(w), scalar(-1.00)*const(d))),\n",
      "    sum_square(add(var(v), scalar(-1.00)*const(k))),\n",
      "    sum_square(add(var(u), scalar(-1.00)*const(e))),\n",
      "    sum_square(add(var(t), scalar(-1.00)*const(f))),\n",
      "    sum_square(add(var(s), scalar(-1.00)*const(l))),\n",
      "    sum_square(add(var(r), scalar(-1.00)*const(m))),\n",
      "    sum_square(add(var(q), scalar(-1.00)*const(n))),\n",
      "    sum_square(add(var(x), scalar(-1.00)*var(y))),\n",
      "    sum_square(add(var(z), scalar(-1.00)*var(w))),\n",
      "    sum_square(add(var(v), scalar(-1.00)*var(u))),\n",
      "    sum_square(add(var(t), scalar(-1.00)*var(s))),\n",
      "    sum_square(add(var(r), scalar(-1.00)*var(q))),\n",
      "    sum_square(add(var(x), scalar(-1.00)*var(y))),\n",
      "    sum_square(add(var(z), scalar(-1.00)*var(w))),\n",
      "    sum_square(add(var(v), scalar(-1.00)*var(u))),\n",
      "    sum_square(add(var(t), scalar(-1.00)*var(s))),\n",
      "    sum_square(add(var(r), scalar(-1.00)*var(q))),\n",
      "    sum_square(add(var(x), scalar(-1.00)*var(y))),\n",
      "    sum_square(add(var(z), scalar(-1.00)*var(w))),\n",
      "    sum_square(add(var(v), scalar(-1.00)*var(u))),\n",
      "    sum_square(add(var(t), scalar(-1.00)*var(s))),\n",
      "    sum_square(add(var(r), scalar(-1.00)*var(q))),\n",
      "    sum_square(add(var(x), scalar(-1.00)*var(y))),\n",
      "    sum_square(add(var(z), scalar(-1.00)*var(w))),\n",
      "    sum_square(add(var(v), scalar(-1.00)*var(u))),\n",
      "    sum_square(add(var(t), scalar(-1.00)*var(s))),\n",
      "    sum_square(add(var(r), scalar(-1.00)*var(q))),\n",
      "    sum_square(add(var(x), scalar(-1.00)*var(y))),\n",
      "    sum_square(add(var(z), scalar(-1.00)*var(w))),\n",
      "    sum_square(add(var(v), scalar(-1.00)*var(u))),\n",
      "    sum_square(add(var(t), scalar(-1.00)*var(s))),\n",
      "    sum_square(add(var(r), scalar(-1.00)*var(q))),\n",
      "    sum_square(add(var(x), scalar(-1.00)*var(y))),\n",
      "    sum_square(add(var(z), scalar(-1.00)*var(w))),\n",
      "    sum_square(add(var(v), scalar(-1.00)*var(u))),\n",
      "    sum_square(add(var(t), scalar(-1.00)*var(s))),\n",
      "    sum_square(add(var(r), scalar(-1.00)*var(q))))\n",
      "\n",
      "constraints:\n",
      "  zero(add(var(x), scalar(-1.00)*var(t)))\n",
      "  zero(add(var(y), scalar(-1.00)*var(v)))\n",
      "  zero(add(var(z), scalar(-1.00)*var(z)))\n",
      "  zero(add(var(w), scalar(-1.00)*var(z)))\n",
      "  zero(add(var(v), scalar(-1.00)*var(z)))\n",
      "  zero(add(var(u), scalar(-1.00)*var(x)))\n",
      "  zero(add(var(t), scalar(-1.00)*var(z)))\n",
      "  zero(add(var(s), scalar(-1.00)*var(t)))\n",
      "  zero(add(var(r), scalar(-1.00)*var(r)))\n",
      "  zero(add(var(q), scalar(-1.00)*var(q)))\n",
      "  zero(add(var(x), scalar(-1.00)*var(t)))\n",
      "  zero(add(var(y), scalar(-1.00)*var(z)))\n",
      "  zero(add(var(z), scalar(-1.00)*var(t)))\n",
      "  zero(add(var(w), scalar(-1.00)*var(z)))\n",
      "  zero(add(var(v), scalar(-1.00)*var(t)))\n",
      "  zero(add(var(u), scalar(-1.00)*var(x)))\n",
      "  zero(add(var(s), scalar(-1.00)*var(r)))\n",
      "  zero(add(var(r), scalar(-1.00)*var(v)))\n",
      "  zero(add(var(q), scalar(-1.00)*var(z)))\n",
      "  zero(add(var(x), scalar(-1.00)*var(v)))\n",
      "  zero(add(var(y), scalar(-1.00)*var(t)))\n",
      "  zero(add(var(z), scalar(-1.00)*var(v)))\n",
      "  zero(add(var(w), scalar(-1.00)*var(r)))\n",
      "  zero(add(var(u), scalar(-1.00)*var(q)))\n",
      "  zero(add(var(t), scalar(-1.00)*var(z)))\n",
      "  zero(add(var(s), scalar(-1.00)*var(x)))\n",
      "  zero(add(var(r), scalar(-1.00)*var(z)))\n",
      "  zero(add(var(q), scalar(-1.00)*var(z)))\n",
      "  zero(add(var(x), scalar(-1.00)*var(z)))\n",
      "  zero(add(var(y), scalar(-1.00)*var(t)))\n",
      "  zero(add(var(w), scalar(-1.00)*var(q)))\n",
      "  zero(add(var(v), scalar(-1.00)*var(z)))\n",
      "  zero(add(var(u), scalar(-1.00)*var(x)))\n",
      "  zero(add(var(t), scalar(-1.00)*var(z)))\n",
      "  zero(add(var(s), scalar(-1.00)*var(z)))\n",
      "  zero(add(var(r), scalar(-1.00)*var(z)))\n",
      "  zero(add(var(q), scalar(-1.00)*var(t)))\n",
      "  zero(add(var(x), scalar(-1.00)*var(z)))\n",
      "  zero(add(var(y), scalar(-1.00)*var(r)))\n",
      "  zero(add(var(w), scalar(-1.00)*var(q)))\n",
      "  zero(add(var(v), scalar(-1.00)*var(z)))\n",
      "  zero(add(var(u), scalar(-1.00)*var(x)))\n",
      "  zero(add(var(t), scalar(-1.00)*var(z)))\n",
      "  zero(add(var(s), scalar(-1.00)*var(z)))\n",
      "  zero(add(var(r), scalar(-1.00)*var(z)))\n",
      "  zero(add(var(q), scalar(-1.00)*var(t)))\n",
      "  zero(add(var(x), scalar(-1.00)*var(z)))\n",
      "  zero(add(var(y), scalar(-1.00)*var(r)))\n",
      "  zero(add(var(w), scalar(-1.00)*var(q)))\n",
      "  zero(add(var(v), scalar(-1.00)*var(x)))\n",
      "  zero(add(var(u), scalar(-1.00)*var(z)))\n",
      "  zero(add(var(t), scalar(-1.00)*var(x)))\n",
      "  zero(add(var(s), scalar(-1.00)*var(t)))\n",
      "  zero(add(var(r), scalar(-1.00)*var(x)))\n",
      "  zero(add(var(q), scalar(-1.00)*var(r)))\n",
      "  zero(add(var(y), scalar(-1.00)*var(q)))\n",
      "  zero(add(var(w), scalar(-1.00)*var(t)))\n",
      "  zero(add(var(v), scalar(-1.00)*var(t)))\n",
      "  zero(add(var(u), scalar(-1.00)*var(r)))\n",
      "  zero(add(var(s), scalar(-1.00)*var(q)))\n",
      "Epsilon compile time: 0.1469 seconds\n",
      "\n",
      "iter=0 residuals primal=5.36e+00 [2.76e-02] dual=2.30e+00 [5.67e-02]\n",
      "iter=20 residuals primal=1.10e-02 [3.97e-02] dual=9.14e-03 [1.65e-01]\n",
      "Epsilon solve time: 0.2282 seconds\n"
     ]
    },
    {
     "data": {
      "text/plain": [
       "('optimal', 57.135027482117366)"
      ]
     },
     "execution_count": 4,
     "metadata": {},
     "output_type": "execute_result"
    }
   ],
   "source": [
    "ep.solve(prob, verbose=True)"
   ]
  }
 ],
 "metadata": {
  "kernelspec": {
   "display_name": "Python 2",
   "language": "python",
   "name": "python2"
  },
  "language_info": {
   "codemirror_mode": {
    "name": "ipython",
    "version": 2
   },
   "file_extension": ".py",
   "mimetype": "text/x-python",
   "name": "python",
   "nbconvert_exporter": "python",
   "pygments_lexer": "ipython2",
   "version": "2.7.11"
  }
 },
 "nbformat": 4,
 "nbformat_minor": 0
}
