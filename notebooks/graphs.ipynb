{
 "cells": [
  {
   "cell_type": "markdown",
   "metadata": {},
   "source": [
    "# Optimization over graphs"
   ]
  },
  {
   "cell_type": "markdown",
   "metadata": {},
   "source": [
    "This example is based on [Hallac et al., \"Network Lasso: Clustering and Optimization in Large Graphs\" (2015)](http://web.stanford.edu/~hallac/Network_Lasso.pdf). "
   ]
  },
  {
   "cell_type": "code",
   "execution_count": 5,
   "metadata": {
    "collapsed": false
   },
   "outputs": [],
   "source": [
    "import cvxpy as cp\n",
    "import epopt as ep\n",
    "import numpy as np\n",
    "import scipy.sparse as sp\n",
    "import snap"
   ]
  },
  {
   "cell_type": "code",
   "execution_count": 6,
   "metadata": {
    "collapsed": false
   },
   "outputs": [],
   "source": [
    "# Generate a random graph\n",
    "N = 2000\n",
    "K = 3\n",
    "graph = snap.GenRndDegK(N, K)"
   ]
  },
  {
   "cell_type": "code",
   "execution_count": 7,
   "metadata": {
    "collapsed": false
   },
   "outputs": [
    {
     "name": "stdout",
     "output_type": "stream",
     "text": [
      "Epsilon 0.2.4\n",
      "Compiled prox-affine form:\n",
      "objective:\n",
      "  add(\n",
      "    sum_square(add(var(X), scalar(-1.00)*const(A))),\n",
      "    sum_square(kron(scalar(1.00), sparse(B))*var(Y)))\n",
      "\n",
      "constraints:\n",
      "  zero(add(var(X), scalar(-1.00)*var(Y)))\n",
      "Epsilon compile time: 0.0350 seconds\n",
      "\n",
      "iter=0 residuals primal=5.38e+02 [6.77e+00] dual=1.70e+02 [7.75e+00]\n",
      "iter=20 residuals primal=4.79e-02 [3.77e+00] dual=5.69e-03 [2.00e+01]\n",
      "Epsilon solve time: 19.1907 seconds\n"
     ]
    },
    {
     "data": {
      "text/plain": [
       "('optimal', 679358.4460935805)"
      ]
     },
     "execution_count": 7,
     "metadata": {},
     "output_type": "execute_result"
    }
   ],
   "source": [
    "# Parameters\n",
    "N = 2000\n",
    "K = 3\n",
    "p = 500\n",
    "lam = 1\n",
    "\n",
    "# Generate random graph\n",
    "E = graph.GetEdges()\n",
    "\n",
    "# Construct differencing operator over graph\n",
    "data = np.hstack((np.ones(E), -np.ones(E)))\n",
    "i = np.hstack((np.arange(E), np.arange(E)))\n",
    "j = ([e.GetSrcNId() for e in graph.Edges()] +\n",
    "     [e.GetDstNId() for e in graph.Edges()])\n",
    "D = sp.coo_matrix((data, (i, j)))\n",
    "\n",
    "# Formulate problem\n",
    "X = cp.Variable(N, p)\n",
    "A = np.random.randn(N, p)\n",
    "f = cp.sum_squares(X-A) + lam*cp.sum_squares(D*X)\n",
    "prob = cp.Problem(cp.Minimize(f))\n",
    "\n",
    "# Solve with Epsilon\n",
    "ep.solve(prob, verbose=True)"
   ]
  }
 ],
 "metadata": {
  "kernelspec": {
   "display_name": "Python 2",
   "language": "python",
   "name": "python2"
  },
  "language_info": {
   "codemirror_mode": {
    "name": "ipython",
    "version": 2
   },
   "file_extension": ".py",
   "mimetype": "text/x-python",
   "name": "python",
   "nbconvert_exporter": "python",
   "pygments_lexer": "ipython2",
   "version": "2.7.11"
  }
 },
 "nbformat": 4,
 "nbformat_minor": 0
}
